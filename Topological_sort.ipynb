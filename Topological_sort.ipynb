{
  "nbformat": 4,
  "nbformat_minor": 0,
  "metadata": {
    "colab": {
      "provenance": []
    },
    "kernelspec": {
      "name": "python3",
      "display_name": "Python 3"
    },
    "language_info": {
      "name": "python"
    }
  },
  "cells": [
    {
      "cell_type": "code",
      "execution_count": 2,
      "metadata": {
        "colab": {
          "base_uri": "https://localhost:8080/"
        },
        "id": "-0GNAeL2i24I",
        "outputId": "59489c85-943b-466b-b89c-8ada240511dc"
      },
      "outputs": [
        {
          "output_type": "stream",
          "name": "stdout",
          "text": [
            "Kahn's Algorithm Result: ['shirt', 'undershorts', 'socks', 'belt', 'tie', 'pants', 'jacket', 'shoes']\n",
            "\n",
            "Dressing sequence:\n",
            "Put on socks\n",
            "Put on undershorts\n",
            "Put on pants\n",
            "Put on shoes\n",
            "Put on shirt\n",
            "Put on tie\n",
            "Put on belt\n",
            "Put on jacket\n"
          ]
        }
      ],
      "source": [
        "# Implementation of Topological Sort algorithms for the clothing graph\n",
        "\n",
        "# Define the Graph class with Kahn's algorithm implementations\n",
        "class Graph:\n",
        "    def __init__(self):\n",
        "        self.graph = {}  # adjacency list representation\n",
        "        self.vertices = set()\n",
        "\n",
        "    def add_edge(self, u, v):\n",
        "        \"\"\"Add an edge from vertex u to vertex v\"\"\"\n",
        "        if u not in self.graph:\n",
        "            self.graph[u] = []\n",
        "        self.graph[u].append(v)\n",
        "        self.vertices.add(u)\n",
        "        self.vertices.add(v)\n",
        "\n",
        "    def dfs_topological_sort(self):\n",
        "        \"\"\"Perform topological sort using Depth-First Search\"\"\"\n",
        "        visited = {vertex: False for vertex in self.vertices}\n",
        "        stack = []\n",
        "\n",
        "        # Visit all vertices\n",
        "        for vertex in self.vertices:\n",
        "            if not visited[vertex]:\n",
        "                self._dfs_util(vertex, visited, stack)\n",
        "\n",
        "        # Return the stack in reverse order\n",
        "        return stack[::-1]\n",
        "\n",
        "    def _dfs_util(self, vertex, visited, stack):\n",
        "        \"\"\"Helper function for DFS topological sort\"\"\"\n",
        "        visited[vertex] = True\n",
        "\n",
        "        # Explore all adjacent vertices\n",
        "        if vertex in self.graph:\n",
        "            for adjacent in self.graph[vertex]:\n",
        "                if not visited[adjacent]:\n",
        "                    self._dfs_util(adjacent, visited, stack)\n",
        "\n",
        "        # Push current vertex to stack after all its descendants are processed\n",
        "        stack.append(vertex)\n",
        "\n",
        "    def kahn_topological_sort(self):\n",
        "        \"\"\"Perform topological sort using Kahn's algorithm\"\"\"\n",
        "        # Calculate in-degree for all vertices\n",
        "        in_degree = {vertex: 0 for vertex in self.vertices}\n",
        "        for u in self.graph:\n",
        "            for v in self.graph[u]:\n",
        "                in_degree[v] += 1\n",
        "\n",
        "        # Queue with vertices that have no incoming edges\n",
        "        queue = [v for v in self.vertices if in_degree[v] == 0]\n",
        "        result = []\n",
        "\n",
        "        # Process vertices with 0 in-degree\n",
        "        while queue:\n",
        "            u = queue.pop(0)\n",
        "            result.append(u)\n",
        "\n",
        "            # Reduce in-degree for all adjacent vertices\n",
        "            if u in self.graph:\n",
        "                for v in self.graph[u]:\n",
        "                    in_degree[v] -= 1\n",
        "                    if in_degree[v] == 0:\n",
        "                        queue.append(v)\n",
        "\n",
        "        # Check if there was a cycle\n",
        "        if len(result) != len(self.vertices):\n",
        "            return \"Graph has a cycle\"\n",
        "        else:\n",
        "            return result\n",
        "\n",
        "\n",
        "# Create the clothing graph from the image\n",
        "clothing_graph = Graph()\n",
        "\n",
        "# Add edges according to the image\n",
        "clothing_graph.add_edge(\"undershorts\", \"pants\")\n",
        "clothing_graph.add_edge(\"pants\", \"shoes\")\n",
        "clothing_graph.add_edge(\"socks\", \"shoes\")\n",
        "clothing_graph.add_edge(\"shirt\", \"belt\")\n",
        "clothing_graph.add_edge(\"shirt\", \"tie\")\n",
        "clothing_graph.add_edge(\"belt\", \"jacket\")\n",
        "clothing_graph.add_edge(\"tie\", \"jacket\")\n",
        "\n",
        "# Try algorithms\n",
        "print(\"Kahn's Algorithm Result:\", clothing_graph.kahn_topological_sort())\n",
        "\n",
        "\n",
        "# Test with the actual clothing items\n",
        "def dress_according_to_order(order):\n",
        "    print(\"\\nDressing sequence:\")\n",
        "    for item in order:\n",
        "        print(f\"Put on {item}\")\n",
        "\n",
        "# Get the ordering and use it\n",
        "ordering = clothing_graph.dfs_topological_sort()\n",
        "dress_according_to_order(ordering)"
      ]
    },
    {
      "cell_type": "code",
      "source": [],
      "metadata": {
        "id": "xiNuOcGqi5Wh"
      },
      "execution_count": null,
      "outputs": []
    }
  ]
}